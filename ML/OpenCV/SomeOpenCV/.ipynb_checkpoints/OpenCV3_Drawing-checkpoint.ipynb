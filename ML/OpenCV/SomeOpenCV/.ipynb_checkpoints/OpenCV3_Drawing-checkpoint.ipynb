{
 "cells": [
  {
   "cell_type": "code",
   "execution_count": 1,
   "id": "47f4a866",
   "metadata": {},
   "outputs": [],
   "source": [
    "import numpy as np\n",
    "import cv2"
   ]
  },
  {
   "cell_type": "code",
   "execution_count": 3,
   "id": "1b3eae75",
   "metadata": {},
   "outputs": [],
   "source": [
    "img = cv2.imread('watch.jpg', cv2.IMREAD_COLOR)\n",
    "\n",
    "cv2.line(img, (0,0), (150,150),(255,255,255),15)\n",
    "cv2.imshow('image', img)\n",
    "cv2.waitKey(0)\n",
    "cv2.destroyAllWindows()"
   ]
  },
  {
   "cell_type": "markdown",
   "id": "9e599ac9",
   "metadata": {},
   "source": [
    "## Resize Image and save"
   ]
  },
  {
   "cell_type": "code",
   "execution_count": 15,
   "id": "79fe7ad7",
   "metadata": {},
   "outputs": [],
   "source": [
    "img = cv2.imread('watch.jpg', cv2.IMREAD_COLOR)\n",
    "img_scaled = cv2.resize(img,None,fx=0.5, fy=0.5, interpolation =\n",
    "cv2.INTER_CUBIC)\n",
    "\n",
    "cv2.imshow('image', img)\n",
    "cv2.imshow('scaled', img_scaled)\n",
    "\n",
    "cv2.waitKey(0)\n",
    "cv2.imwrite('watch2.jpg',img_scaled)\n",
    "cv2.destroyAllWindows()\n"
   ]
  }
 ],
 "metadata": {
  "kernelspec": {
   "display_name": "Python 3",
   "language": "python",
   "name": "python3"
  },
  "language_info": {
   "codemirror_mode": {
    "name": "ipython",
    "version": 3
   },
   "file_extension": ".py",
   "mimetype": "text/x-python",
   "name": "python",
   "nbconvert_exporter": "python",
   "pygments_lexer": "ipython3",
   "version": "3.9.0"
  }
 },
 "nbformat": 4,
 "nbformat_minor": 5
}
