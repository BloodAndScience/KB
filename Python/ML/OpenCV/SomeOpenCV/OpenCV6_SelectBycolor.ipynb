{
 "cells": [
  {
   "cell_type": "code",
   "execution_count": 2,
   "id": "0981e844",
   "metadata": {},
   "outputs": [],
   "source": [
    "import numpy as np\n",
    "import cv2\n",
    "img = cv2.imread('WatchRed.jpg', cv2.IMREAD_COLOR)    \n",
    "\n",
    "def ShowImage():\n",
    "    cv2.imshow('image', img)\n",
    "    cv2.waitKey(0)\n",
    "    cv2.destroyAllWindows()"
   ]
  },
  {
   "cell_type": "code",
   "execution_count": 14,
   "id": "581b07ca",
   "metadata": {},
   "outputs": [],
   "source": [
    "## Getting Color Red"
   ]
  },
  {
   "cell_type": "code",
   "execution_count": 13,
   "id": "d092dd46",
   "metadata": {},
   "outputs": [],
   "source": [
    "hsv = cv2.cvtColor(img,cv2.COLOR_BGR2HSV)\n",
    "\n",
    "low = np.array([0,100,100])\n",
    "high = np.array([255,255,255])\n",
    "\n",
    "mask = cv2.inRange(hsv,low,high)\n",
    "res = cv2.bitwise_and(img,img,mask=mask)\n",
    "\n",
    "cv2.imshow('result',res)\n",
    "ShowImage()"
   ]
  }
 ],
 "metadata": {
  "kernelspec": {
   "display_name": "Python 3",
   "language": "python",
   "name": "python3"
  },
  "language_info": {
   "codemirror_mode": {
    "name": "ipython",
    "version": 3
   },
   "file_extension": ".py",
   "mimetype": "text/x-python",
   "name": "python",
   "nbconvert_exporter": "python",
   "pygments_lexer": "ipython3",
   "version": "3.9.0"
  }
 },
 "nbformat": 4,
 "nbformat_minor": 5
}
