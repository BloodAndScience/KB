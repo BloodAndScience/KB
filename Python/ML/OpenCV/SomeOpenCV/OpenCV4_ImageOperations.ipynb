{
 "cells": [
  {
   "cell_type": "code",
   "execution_count": 11,
   "id": "1e929cb1",
   "metadata": {},
   "outputs": [],
   "source": [
    "import numpy as np\n",
    "import cv2\n",
    "img = cv2.imread('watch2.jpg', cv2.IMREAD_COLOR)    \n",
    "\n",
    "def ShowImage():\n",
    "    cv2.imshow('image', img)\n",
    "    cv2.waitKey(0)\n",
    "    cv2.destroyAllWindows()"
   ]
  },
  {
   "cell_type": "code",
   "execution_count": null,
   "id": "44a0e63f",
   "metadata": {},
   "outputs": [],
   "source": []
  },
  {
   "cell_type": "markdown",
   "id": "4937a0e3",
   "metadata": {},
   "source": [
    "## Referenece pixel"
   ]
  },
  {
   "cell_type": "code",
   "execution_count": 13,
   "id": "748f2801",
   "metadata": {},
   "outputs": [
    {
     "name": "stdout",
     "output_type": "stream",
     "text": [
      "[255 255 255]\n"
     ]
    }
   ],
   "source": [
    "white = [255,255,255]\n",
    "img[55,55] = white\n",
    "px = img[55,55]\n",
    "print(px)"
   ]
  },
  {
   "cell_type": "markdown",
   "id": "718b32e9",
   "metadata": {},
   "source": [
    "## Make region white"
   ]
  },
  {
   "cell_type": "code",
   "execution_count": 15,
   "id": "0eae7ab6",
   "metadata": {},
   "outputs": [],
   "source": [
    "img[100:150,100:150] = [255,255,255]\n",
    "ShowImage()"
   ]
  },
  {
   "cell_type": "markdown",
   "id": "7d042399",
   "metadata": {},
   "source": [
    "## Cut part of image"
   ]
  },
  {
   "cell_type": "code",
   "execution_count": 16,
   "id": "660738f2",
   "metadata": {},
   "outputs": [],
   "source": [
    "watch_face = img[100:500,100:500]\n",
    "img[0:400,0:400] = watch_face\n",
    "ShowImage()"
   ]
  }
 ],
 "metadata": {
  "kernelspec": {
   "display_name": "Python 3",
   "language": "python",
   "name": "python3"
  },
  "language_info": {
   "codemirror_mode": {
    "name": "ipython",
    "version": 3
   },
   "file_extension": ".py",
   "mimetype": "text/x-python",
   "name": "python",
   "nbconvert_exporter": "python",
   "pygments_lexer": "ipython3",
   "version": "3.9.0"
  }
 },
 "nbformat": 4,
 "nbformat_minor": 5
}
