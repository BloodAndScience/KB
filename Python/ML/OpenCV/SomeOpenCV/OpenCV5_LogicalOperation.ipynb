{
 "cells": [
  {
   "cell_type": "code",
   "execution_count": 74,
   "id": "683acae7",
   "metadata": {},
   "outputs": [],
   "source": [
    "import numpy as np\n",
    "import cv2\n",
    "img = cv2.imread('watch2.jpg', cv2.IMREAD_COLOR)    \n",
    "\n",
    "def ShowImage():\n",
    "    cv2.imshow('image', img)\n",
    "    cv2.waitKey(0)\n",
    "    cv2.destroyAllWindows()"
   ]
  },
  {
   "cell_type": "code",
   "execution_count": 53,
   "id": "c89e0c73",
   "metadata": {},
   "outputs": [
    {
     "data": {
      "text/plain": [
       "True"
      ]
     },
     "execution_count": 53,
     "metadata": {},
     "output_type": "execute_result"
    }
   ],
   "source": [
    "logo_big = cv2.imread('mainLogoBig.png',cv2.IMREAD_COLOR)\n",
    "logo_small = cv2.resize(logo_big,None,fx=0.1,fy=0.1,interpolation=cv2.INTER_CUBIC)\n",
    "logo_small = cv2.cvtColor(logo_small,cv2.COLOR_RGBA2RGB)\n",
    "cv2.imwrite('mainLogo.jpg',logo_small)"
   ]
  },
  {
   "cell_type": "code",
   "execution_count": 140,
   "id": "4cb06a50",
   "metadata": {},
   "outputs": [],
   "source": [
    "#Add another layer"
   ]
  },
  {
   "cell_type": "code",
   "execution_count": 145,
   "id": "7303ab1f",
   "metadata": {},
   "outputs": [],
   "source": [
    "img = cv2.imread('watch2.jpg', cv2.IMREAD_COLOR)    \n",
    "img2 = cv2.imread('mainLogo.jpg',cv2.IMREAD_COLOR)\n",
    "img2gray = cv2.cvtColor(img2,cv2.COLOR_RGB2GRAY)\n",
    "ret,mask_inv = cv2.threshold(img2gray,100,250,cv2.THRESH_BINARY_INV)\n",
    "\n",
    "mask = cv2.bitwise_not(mask_inv)\n",
    "rows,cols,channels = img2.shape\n",
    "imgecut = img[0:rows,0:cols]\n",
    "\n",
    "img_bg = cv2.bitwise_and(imgecut,imgecut,mask=mask_inv)\n",
    "img2_fg = cv2.bitwise_and(img2,img2,mask=mask)\n",
    "\n",
    "dst = cv2.add(img_bg,img2_fg)\n",
    "\n",
    "img[0:rows,0:cols] = dst\n",
    "#cv2.imshow('mask',mask_inv)\n",
    "#cv2.imshow('BG',img_bg)\n",
    "cv2.imshow('FG',dst)\n",
    "ShowImage()"
   ]
  }
 ],
 "metadata": {
  "kernelspec": {
   "display_name": "Python 3",
   "language": "python",
   "name": "python3"
  },
  "language_info": {
   "codemirror_mode": {
    "name": "ipython",
    "version": 3
   },
   "file_extension": ".py",
   "mimetype": "text/x-python",
   "name": "python",
   "nbconvert_exporter": "python",
   "pygments_lexer": "ipython3",
   "version": "3.9.0"
  }
 },
 "nbformat": 4,
 "nbformat_minor": 5
}
