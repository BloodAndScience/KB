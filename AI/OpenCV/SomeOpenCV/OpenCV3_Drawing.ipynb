{
 "cells": [
  {
   "cell_type": "code",
   "execution_count": 24,
   "id": "8dea71f1",
   "metadata": {},
   "outputs": [],
   "source": [
    "def InitOpenCV():\n",
    "    import numpy as np\n",
    "    import cv2\n",
    "    img = cv2.imread('watch2.jpg', cv2.IMREAD_COLOR)\n",
    "\n",
    "def ShowImage():\n",
    "    cv2.imshow('image', img)\n",
    "    cv2.waitKey(0)\n",
    "    cv2.destroyAllWindows()\n",
    "\n",
    "InitOpenCV()"
   ]
  },
  {
   "cell_type": "code",
   "execution_count": 18,
   "id": "3fd596f5",
   "metadata": {},
   "outputs": [],
   "source": [
    "img = cv2.imread('watch2.jpg', cv2.IMREAD_COLOR)\n",
    "\n",
    "cv2.line(img, (0,0), (150,150),(255,255,255),15)\n",
    "cv2.rectangle(img,(15,25),(200,150),(0,255,0),5)\n",
    "cv2.circle(img,(100,63),55,(0,0,0),-1)\n",
    "\n",
    "cv2.imshow('image', img)\n",
    "cv2.waitKey(0)\n",
    "cv2.destroyAllWindows()"
   ]
  },
  {
   "cell_type": "markdown",
   "id": "9c44444c",
   "metadata": {},
   "source": [
    "## Resize Image and save"
   ]
  },
  {
   "cell_type": "code",
   "execution_count": 19,
   "id": "bbf1da0e",
   "metadata": {},
   "outputs": [],
   "source": [
    "img = cv2.imread('watch.jpg', cv2.IMREAD_COLOR)\n",
    "img_scaled = cv2.resize(img,None,fx=0.5, fy=0.5, interpolation =\n",
    "cv2.INTER_CUBIC)\n",
    "\n",
    "cv2.imshow('image', img)\n",
    "cv2.imshow('scaled', img_scaled)\n",
    "\n",
    "cv2.waitKey(0)\n",
    "cv2.imwrite('watch2.jpg',img_scaled)\n",
    "cv2.destroyAllWindows()\n"
   ]
  },
  {
   "cell_type": "code",
   "execution_count": 20,
   "id": "76c76daf",
   "metadata": {},
   "outputs": [],
   "source": [
    "## Putting text"
   ]
  },
  {
   "cell_type": "code",
   "execution_count": 25,
   "id": "b9868731",
   "metadata": {},
   "outputs": [],
   "source": [
    "InitOpenCV()\n",
    "\n",
    "font = cv2.FONT_HERSHEY_SIMPLEX\n",
    "cv2.putText(img,'OpenCV', (0,200),font,2,(255,255,255),5,cv2.LINE_AA)\n",
    "\n",
    "ShowImage()"
   ]
  }
 ],
 "metadata": {
  "kernelspec": {
   "display_name": "Python 3",
   "language": "python",
   "name": "python3"
  },
  "language_info": {
   "codemirror_mode": {
    "name": "ipython",
    "version": 3
   },
   "file_extension": ".py",
   "mimetype": "text/x-python",
   "name": "python",
   "nbconvert_exporter": "python",
   "pygments_lexer": "ipython3",
   "version": "3.9.0"
  }
 },
 "nbformat": 4,
 "nbformat_minor": 5
}
