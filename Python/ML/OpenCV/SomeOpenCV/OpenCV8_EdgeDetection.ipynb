{
 "cells": [
  {
   "cell_type": "code",
   "execution_count": 2,
   "id": "230e53ca",
   "metadata": {},
   "outputs": [],
   "source": [
    "\n",
    "import numpy as np\n",
    "import cv2\n",
    "img = cv2.imread('watchRed.jpg', cv2.IMREAD_COLOR)    \n",
    "\n",
    "def ShowImage():\n",
    "    cv2.imshow('image', img)\n",
    "    cv2.waitKey(0)\n",
    "    cv2.destroyAllWindows()"
   ]
  },
  {
   "cell_type": "code",
   "execution_count": 3,
   "id": "554b0355",
   "metadata": {},
   "outputs": [],
   "source": [
    "laplacian = cv2.Laplacian(img,cv2.CV_64F)\n",
    "sobelx = cv2.Sobel(img,cv2.CV_64F,1,0,ksize=5)\n",
    "sobely = cv2.Sobel(img,cv2.CV_64F,0,1,ksize=5)\n",
    "edges= cv2.Canny(img,200,200)\n",
    "\n",
    "cv2.imshow('laplacia',laplacian)\n",
    "cv2.imshow('soblx', sobelx)\n",
    "cv2.imshow('soboly',sobely)\n",
    "cv2.imshow('edges',edges)\n",
    "\n",
    "ShowImage()"
   ]
  },
  {
   "cell_type": "code",
   "execution_count": null,
   "id": "1ef3d1f1",
   "metadata": {},
   "outputs": [],
   "source": []
  }
 ],
 "metadata": {
  "kernelspec": {
   "display_name": "Python 3",
   "language": "python",
   "name": "python3"
  },
  "language_info": {
   "codemirror_mode": {
    "name": "ipython",
    "version": 3
   },
   "file_extension": ".py",
   "mimetype": "text/x-python",
   "name": "python",
   "nbconvert_exporter": "python",
   "pygments_lexer": "ipython3",
   "version": "3.7.7"
  }
 },
 "nbformat": 4,
 "nbformat_minor": 5
}
