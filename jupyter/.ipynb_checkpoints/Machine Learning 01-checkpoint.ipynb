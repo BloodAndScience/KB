{
 "cells": [
  {
   "cell_type": "code",
   "execution_count": 13,
   "id": "83a8c606",
   "metadata": {},
   "outputs": [],
   "source": [
    "import tensorflow as tf"
   ]
  },
  {
   "cell_type": "code",
   "execution_count": 15,
   "id": "37a22789",
   "metadata": {},
   "outputs": [],
   "source": [
    "tfvar =  tf.random.uniform([1])"
   ]
  },
  {
   "cell_type": "code",
   "execution_count": null,
   "id": "ec17724a",
   "metadata": {},
   "outputs": [],
   "source": []
  },
  {
   "cell_type": "code",
   "execution_count": 6,
   "id": "8e72be55",
   "metadata": {},
   "outputs": [
    {
     "name": "stdout",
     "output_type": "stream",
     "text": [
      "[0.76489437]\n"
     ]
    }
   ],
   "source": [
    "print(tfvar.numpy())"
   ]
  },
  {
   "cell_type": "code",
   "execution_count": 12,
   "id": "8ca6f8cb",
   "metadata": {},
   "outputs": [
    {
     "name": "stdout",
     "output_type": "stream",
     "text": [
      "tf.Tensor([], shape=(100, 0), dtype=float32)\n"
     ]
    }
   ],
   "source": [
    "def DataCreation(w=0.1, b=0.5, n=100):\n",
    "    x = tf.random.uniform(shape =(100,))\n",
    "    print(x)\n",
    "\n",
    "DataCreation(w=0.5)"
   ]
  }
 ],
 "metadata": {
  "kernelspec": {
   "display_name": "Python 3",
   "language": "python",
   "name": "python3"
  },
  "language_info": {
   "codemirror_mode": {
    "name": "ipython",
    "version": 3
   },
   "file_extension": ".py",
   "mimetype": "text/x-python",
   "name": "python",
   "nbconvert_exporter": "python",
   "pygments_lexer": "ipython3",
   "version": "3.9.0"
  },
  "widgets": {
   "application/vnd.jupyter.widget-state+json": {
    "state": {},
    "version_major": 2,
    "version_minor": 0
   }
  }
 },
 "nbformat": 4,
 "nbformat_minor": 5
}
