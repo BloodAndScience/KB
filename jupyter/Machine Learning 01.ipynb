{
 "cells": [
  {
   "cell_type": "code",
   "execution_count": 1,
   "id": "c62ccbd4",
   "metadata": {},
   "outputs": [
    {
     "name": "stdout",
     "output_type": "stream",
     "text": [
      "INFO:tensorflow:Enabling eager execution\n",
      "INFO:tensorflow:Enabling v2 tensorshape\n",
      "INFO:tensorflow:Enabling resource variables\n",
      "INFO:tensorflow:Enabling tensor equality\n",
      "INFO:tensorflow:Enabling control flow v2\n"
     ]
    }
   ],
   "source": [
    "import tensorflow as tf"
   ]
  },
  {
   "cell_type": "code",
   "execution_count": 2,
   "id": "a1b55d9e",
   "metadata": {},
   "outputs": [],
   "source": [
    "tfvar =  tf.random.uniform([1])"
   ]
  },
  {
   "cell_type": "code",
   "execution_count": 3,
   "id": "fe098f27",
   "metadata": {},
   "outputs": [
    {
     "name": "stdout",
     "output_type": "stream",
     "text": [
      "[0.4701954]\n"
     ]
    }
   ],
   "source": [
    "print(tfvar.numpy())"
   ]
  },
  {
   "cell_type": "code",
   "execution_count": 4,
   "id": "0ac385f1",
   "metadata": {},
   "outputs": [],
   "source": [
    "def DataCreation(w=0.1, b=0.5, n=100):\n",
    "    x = tf.random.uniform(shape =(n,))\n",
    "    noise = tf.random.normal(shape=(len(x), ), stddev=0.01)\n",
    "    y = x*w+b+noise\n",
    "    return(x,y)"
   ]
  },
  {
   "cell_type": "code",
   "execution_count": 5,
   "id": "1135f27b",
   "metadata": {},
   "outputs": [
    {
     "data": {
      "image/png": "[encoded data removed]",
      "text/plain": [
       "<Figure size 432x288 with 1 Axes>"
      ]
     },
     "metadata": {
      "needs_background": "light"
     },
     "output_type": "display_data"
    }
   ],
   "source": [
    "f\n",
    "x, y = DataCreation()\n",
    "mpl.hist(x.numpy())\n",
    "mpl.show()"
   ]
  },
  {
   "cell_type": "markdown",
   "id": "f8fc3f4a",
   "metadata": {},
   "source": [
    "### DataDefinition"
   ]
  },
  {
   "cell_type": "code",
   "execution_count": 15,
   "id": "08c4b778",
   "metadata": {},
   "outputs": [],
   "source": [
    "x,y= DataCreation(n=100)\n",
    "w_guess = 0.0\n",
    "b_guess = 0.0\n",
    "\n",
    "def showdata (x=x,y=y):\n",
    "    w = 0.1\n",
    "    b = 0.5\n",
    "    newY = w*x+b\n",
    "    mpl.plot(x,y,'go')\n",
    "    mpl.plot(x,newY)\n",
    "\n",
    "def predict(x=x,w=w_guess,b=b_guess):\n",
    "    y=w*x+b\n",
    "    return y"
   ]
  },
  {
   "cell_type": "code",
   "execution_count": 16,
   "id": "6a181ae4",
   "metadata": {},
   "outputs": [
    {
     "data": {
      "image/png": "[encoded data removed]",
      "text/plain": [
       "<Figure size 432x288 with 1 Axes>"
      ]
     },
     "metadata": {
      "needs_background": "light"
     },
     "output_type": "display_data"
    }
   ],
   "source": [
    "\n",
    "mpl.plot(x,predict(x),'r.')\n",
    "showdata()"
   ]
  },
  {
   "cell_type": "code",
   "execution_count": 9,
   "id": "bdb7aed9",
   "metadata": {},
   "outputs": [],
   "source": [
    "def mean_squared_error(y_pred, y):\n",
    "    return tf.reduce_mean(tf.square(y_pred-y))"
   ]
  },
  {
   "cell_type": "code",
   "execution_count": 18,
   "id": "ba71246f",
   "metadata": {},
   "outputs": [
    {
     "name": "stdout",
     "output_type": "stream",
     "text": [
      "tf.Tensor(25.744719, shape=(), dtype=float32)\n"
     ]
    }
   ],
   "source": [
    "print(mean_squared_error(predict(x,1,-5),y))\n"
   ]
  }
 ],
 "metadata": {
  "kernelspec": {
   "display_name": "Python 3",
   "language": "python",
   "name": "python3"
  },
  "language_info": {
   "codemirror_mode": {
    "name": "ipython",
    "version": 3
   },
   "file_extension": ".py",
   "mimetype": "text/x-python",
   "name": "python",
   "nbconvert_exporter": "python",
   "pygments_lexer": "ipython3",
   "version": "3.9.0"
  },
  "widgets": {
   "application/vnd.jupyter.widget-state+json": {
    "state": {},
    "version_major": 2,
    "version_minor": 0
   }
  }
 },
 "nbformat": 4,
 "nbformat_minor": 5
}
