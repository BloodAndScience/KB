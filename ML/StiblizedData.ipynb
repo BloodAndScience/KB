{
 "cells": [
  {
   "cell_type": "code",
   "execution_count": 10,
   "id": "bd9d542c",
   "metadata": {},
   "outputs": [],
   "source": [
    "import cv2\n",
    "w_cascade = cv2.CascadeClassifier('watchcascade10stage.xml')\n",
    "\n",
    "def DetectImage(name,scale=0.75,b=5,text ='Watch',color=(0,0,0),c2=(0, 255, 0)):\n",
    "\n",
    "\n",
    "    img = cv2.imread(name)\n",
    "\n",
    "    small = cv2.resize(img,None,fx=scale,fy=scale,interpolation=cv2.INTER_CUBIC)\n",
    "    gray = cv2.cvtColor(small, cv2.COLOR_BGR2GRAY)\n",
    "    blur = cv2.GaussianBlur(gray,(b,b),0)\n",
    "    median = cv2.medianBlur(blur,b)\n",
    "    \n",
    "\n",
    "    wa = w_cascade.detectMultiScale(image=median,scaleFactor=3,minNeighbors=4)\n",
    "\n",
    "    img = small\n",
    "    for (x, y, w, h) in wa:\n",
    "        cv2.rectangle(img, (x, y), (x + w, y + h),c2 , 2)\n",
    "        font = cv2.FONT_HERSHEY_SIMPLEX\n",
    "        cv2.putText(img, text , (x - w, y - h), font, 0.5, color,  1, cv2.LINE_AA)\n",
    "\n",
    "    cv2.imshow('img '+ name, small)\n",
    "    cv2.imshow('alt '+name, median)\n",
    "\n",
    "    return\n",
    "\n",
    "DetectImage('watchM.jpg',0.75,15,'Rolex Silver',(255,255,255))\n",
    "DetectImage('watchR.jpg',0.75,15, 'Rolex RED',(255,255,255))\n",
    "r = (0,0,255)\n",
    "DetectImage('Alternative.jpg',0.33,5, 'NOT ORYGINAL',r,r)\n",
    "DetectImage('other.png',1,3,'NOT ORYGINAL',r,r)\n",
    "\n",
    "cv2.waitKey(0)\n",
    "cv2.destroyAllWindows()"
   ]
  },
  {
   "cell_type": "code",
   "execution_count": null,
   "id": "2a79e774",
   "metadata": {},
   "outputs": [],
   "source": []
  }
 ],
 "metadata": {
  "kernelspec": {
   "display_name": "Python 3",
   "language": "python",
   "name": "python3"
  },
  "language_info": {
   "codemirror_mode": {
    "name": "ipython",
    "version": 3
   },
   "file_extension": ".py",
   "mimetype": "text/x-python",
   "name": "python",
   "nbconvert_exporter": "python",
   "pygments_lexer": "ipython3",
   "version": "3.9.0"
  }
 },
 "nbformat": 4,
 "nbformat_minor": 5
}
