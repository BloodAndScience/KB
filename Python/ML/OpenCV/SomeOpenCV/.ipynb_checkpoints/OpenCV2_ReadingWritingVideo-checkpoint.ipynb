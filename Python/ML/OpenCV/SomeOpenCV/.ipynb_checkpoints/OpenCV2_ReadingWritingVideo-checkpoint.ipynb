{
 "cells": [
  {
   "cell_type": "markdown",
   "id": "bbae62dd",
   "metadata": {},
   "source": [
    "## Interacting with WebCam or video"
   ]
  },
  {
   "cell_type": "code",
   "execution_count": 1,
   "id": "1074f086",
   "metadata": {},
   "outputs": [],
   "source": [
    "import cv2\n",
    "import numpy as np"
   ]
  },
  {
   "cell_type": "markdown",
   "id": "bed72ba6",
   "metadata": {},
   "source": [
    "## Showing from WebCam"
   ]
  },
  {
   "cell_type": "code",
   "execution_count": 2,
   "id": "b3c6a32b",
   "metadata": {},
   "outputs": [],
   "source": [
    "def CathVideo():\n",
    "    cap= cv2.VideoCapture(1)\n",
    "    while True:\n",
    "        ret, frame = cap.read()\n",
    "        gray = cv2.cvtColor(frame,cv2.COLOR_RGB2GRAY)\n",
    "\n",
    "        cv2.imshow('frame',frame)\n",
    "        cv2.imshow('gray',gray)\n",
    "        if(cv2.waitKey(1) & 0xFF == ord('q')):\n",
    "           break\n",
    "\n",
    "    cap.release()\n",
    "    cv2.destroyAllWindows() "
   ]
  },
  {
   "cell_type": "code",
   "execution_count": 3,
   "id": "71667014",
   "metadata": {},
   "outputs": [],
   "source": [
    "## Recording Video"
   ]
  },
  {
   "cell_type": "code",
   "execution_count": 9,
   "id": "5b248083",
   "metadata": {},
   "outputs": [],
   "source": [
    "fourcc =cv2.VideoWriter_fourcc(*'XVID')\n",
    "out = cv2.VideoWriter('output.avi',fourcc,24.0,(640,480))\n",
    "cap= cv2.VideoCapture(1)\n",
    "\n",
    "while True:\n",
    "    ret, frame = cap.read()\n",
    "    out.write(frame)\n",
    "    cv2.imshow('frame',frame)\n",
    "    if(cv2.waitKey(1) & 0xFF == ord('q')):\n",
    "       break\n",
    "\n",
    "cap.release()\n",
    "out.release()\n",
    "cv2.destroyAllWindows() "
   ]
  }
 ],
 "metadata": {
  "kernelspec": {
   "display_name": "Python 3",
   "language": "python",
   "name": "python3"
  },
  "language_info": {
   "codemirror_mode": {
    "name": "ipython",
    "version": 3
   },
   "file_extension": ".py",
   "mimetype": "text/x-python",
   "name": "python",
   "nbconvert_exporter": "python",
   "pygments_lexer": "ipython3",
   "version": "3.9.0"
  }
 },
 "nbformat": 4,
 "nbformat_minor": 5
}
